{
 "cells": [
  {
   "cell_type": "code",
   "execution_count": 1,
   "metadata": {},
   "outputs": [
    {
     "name": "stdout",
     "output_type": "stream",
     "text": [
      "0.9164682539682539\n",
      "--------\n",
      "0.8604815864022662\n",
      "--------\n",
      "0.535832414553473\n"
     ]
    },
    {
     "data": {
      "text/plain": [
       "<AxesSubplot:>"
      ]
     },
     "execution_count": 1,
     "metadata": {},
     "output_type": "execute_result"
    },
    {
     "data": {
      "image/png": "[encoded data removed]",
      "text/plain": [
       "<Figure size 432x288 with 2 Axes>"
      ]
     },
     "metadata": {
      "needs_background": "light"
     },
     "output_type": "display_data"
    }
   ],
   "source": [
    "import numpy as np \n",
    "import pandas as pd \n",
    "import seaborn as sns \n",
    "import matplotlib.pyplot as plt \n",
    "train_data = pd.read_csv(\"archive/Training Data.csv\")\n",
    "train_data.drop(\"Id\",axis=1)\n",
    "train_data.head()\n",
    "train_data[\"Profession\"]=pd.factorize(train_data.Profession)[0]\n",
    "train_data[\"CITY\"]=pd.factorize(train_data.CITY)[0]\n",
    "train_data[\"STATE\"]=pd.factorize(train_data.STATE)[0]\n",
    "train_data[\"Married/Single\"]=pd.factorize(train_data['Married/Single'])[0]\n",
    "train_data[\"House_Ownership\"]=pd.factorize(train_data.House_Ownership)[0]\n",
    "train_data[\"Car_Ownership\"]=pd.factorize(train_data.Car_Ownership)[0]\n",
    "xtrain=train_data.drop(\"Risk_Flag\",axis=1)\n",
    "ytrain=train_data[\"Risk_Flag\"]\n",
    "from sklearn.model_selection import train_test_split\n",
    "X_train, X_test, y_train, y_test = train_test_split(xtrain, ytrain, test_size=0.3)\n",
    "from sklearn.ensemble import RandomForestClassifier\n",
    "RFC = RandomForestClassifier(max_features=0.6,n_estimators=100)\n",
    "RFC.fit(X_train,y_train)\n",
    "X_test.head()\n",
    "y_pred = RFC.predict(X_test)\n",
    "y_pred\n",
    "from sklearn.metrics import accuracy_score,precision_score,recall_score,f1_score,confusion_matrix\n",
    "\n",
    "accu = accuracy_score(y_test,y_pred)\n",
    "presi = precision_score(y_test,y_pred)\n",
    "\n",
    "f1 = f1_score(y_test,y_pred)\n",
    "print(accu)\n",
    "print(\"--------\")\n",
    "print(presi)\n",
    "print(\"--------\")\n",
    "print(f1)\n",
    "import seaborn as sns \n",
    "\n",
    "sns.heatmap(confusion_matrix(y_test,y_pred),annot=True, fmt='g', cmap=\"BuGn\", cbar=True)"
   ]
  }
 ],
 "metadata": {
  "interpreter": {
   "hash": "a58da0528ab9d3d8028fded3003194e95a9474b35279cfa65a890cd8314d711c"
  },
  "kernelspec": {
   "display_name": "Python 3.8.8 64-bit ('base': conda)",
   "language": "python",
   "name": "python3"
  },
  "language_info": {
   "codemirror_mode": {
    "name": "ipython",
    "version": 3
   },
   "file_extension": ".py",
   "mimetype": "text/x-python",
   "name": "python",
   "nbconvert_exporter": "python",
   "pygments_lexer": "ipython3",
   "version": "3.8.8"
  },
  "orig_nbformat": 4
 },
 "nbformat": 4,
 "nbformat_minor": 2
}
